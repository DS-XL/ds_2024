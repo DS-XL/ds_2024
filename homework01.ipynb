{
 "cells": [
  {
   "cell_type": "code",
   "execution_count": null,
   "id": "39e8042f-afa1-4775-a0fd-a294e1e8accd",
   "metadata": {},
   "outputs": [],
   "source": [
    "# Exercise 3"
   ]
  },
  {
   "cell_type": "code",
   "execution_count": null,
   "id": "0dd5811d-07c6-46e3-98f6-b7aeb3a73b7d",
   "metadata": {},
   "outputs": [],
   "source": [
    "# 3.1"
   ]
  },
  {
   "cell_type": "code",
   "execution_count": 6,
   "id": "64d6305b-4c50-490b-bd30-6e2a8a400c48",
   "metadata": {},
   "outputs": [
    {
     "name": "stdin",
     "output_type": "stream",
     "text": [
      "Enter your test score:  70\n"
     ]
    },
    {
     "name": "stdout",
     "output_type": "stream",
     "text": [
      "C\n"
     ]
    }
   ],
   "source": [
    "score = int(input(\"Enter your test score: \"))\n",
    "\n",
    "if score >= 90:\n",
    "    grade = \"A\"\n",
    "elif score >= 80:\n",
    "    grade = \"B\"\n",
    "elif score >= 70:\n",
    "    grade = \"C\"\n",
    "elif score >= 60:\n",
    "    grade = \"D\"\n",
    "else:\n",
    "    grade = \"F\"\n",
    "\n",
    "print(grade)"
   ]
  },
  {
   "cell_type": "code",
   "execution_count": null,
   "id": "10199b22-92e3-492f-80f7-1f015ec9fecf",
   "metadata": {},
   "outputs": [],
   "source": [
    "# 3.2"
   ]
  },
  {
   "cell_type": "code",
   "execution_count": 8,
   "id": "62443887-9698-400a-8c1c-cdac40374524",
   "metadata": {},
   "outputs": [
    {
     "name": "stdout",
     "output_type": "stream",
     "text": [
      "x is the same as y\n"
     ]
    }
   ],
   "source": [
    "x = 1\n",
    "y = 1\n",
    "\n",
    "if x < y:\n",
    "    message = \"x is less than y\"\n",
    "elif x > y:\n",
    "    message = \"x is greater than y\"\n",
    "elif x == y:\n",
    "    message = \"x is the same as y\"\n",
    "\n",
    "print(message)"
   ]
  },
  {
   "cell_type": "code",
   "execution_count": null,
   "id": "97865334-379d-40e8-a741-1120d67749f8",
   "metadata": {},
   "outputs": [],
   "source": [
    "# Exercise 4"
   ]
  },
  {
   "cell_type": "code",
   "execution_count": null,
   "id": "d3f884e8-fd6f-491c-91ea-7b2bc05e7d8f",
   "metadata": {},
   "outputs": [],
   "source": [
    "# 4.1"
   ]
  },
  {
   "cell_type": "code",
   "execution_count": 14,
   "id": "674094e3-659b-42e0-9f6b-dea11590afff",
   "metadata": {},
   "outputs": [
    {
     "name": "stdout",
     "output_type": "stream",
     "text": [
      "[90, 89, 100, 65, 43, 54, 75, 34, 59, 85]\n",
      "[34, 43, 54, 59, 65, 75, 85, 89, 90, 100]\n",
      "[100, 90, 89, 85, 75, 65, 59, 54, 43, 34]\n"
     ]
    }
   ],
   "source": [
    "grades = [90, 89, 100, 65, 43, 54, 75, 34, 59, 85]\n",
    "print(grades)\n",
    "grades.sort()\n",
    "print(grades)\n",
    "grades.reverse()\n",
    "print(grades)"
   ]
  },
  {
   "cell_type": "code",
   "execution_count": null,
   "id": "247cf09c-98dd-4ac3-8104-97afff2cbffb",
   "metadata": {},
   "outputs": [],
   "source": [
    "# 4.2"
   ]
  },
  {
   "cell_type": "code",
   "execution_count": 18,
   "id": "37a1e73d-9c78-4ce5-b8ea-926e20d09be2",
   "metadata": {},
   "outputs": [
    {
     "name": "stdout",
     "output_type": "stream",
     "text": [
      "dict_keys(['A', 'B', 'C'])\n",
      "A is in grades_dict\n"
     ]
    }
   ],
   "source": [
    "grades_dict = {\"A\":[90,95,92], \"B\":[89,86,82], \"C\":[75,70,79]}\n",
    "if \"A\" in grades_dict.keys():\n",
    "    print(\"A is in grades_dict\")"
   ]
  },
  {
   "cell_type": "code",
   "execution_count": null,
   "id": "d8b81884-1e0b-4844-b255-96f151eea0eb",
   "metadata": {},
   "outputs": [],
   "source": [
    "# 4.3"
   ]
  },
  {
   "cell_type": "code",
   "execution_count": 25,
   "id": "ced51d5a-44bb-473a-b56b-723af52cab17",
   "metadata": {},
   "outputs": [
    {
     "name": "stdout",
     "output_type": "stream",
     "text": [
      "['a', 'a', 'a', 'a', 'a', 'a', 'a', 'a', 'a', 'a', 'b', 'b', 'b', 'b', 'b', 'c', 'c', 'c']\n",
      "Counter({'a': 1, 'b': 1, 'c': 1})\n"
     ]
    }
   ],
   "source": [
    "from collections import Counter\n",
    "\n",
    "c = Counter(a=10, b=5, c=3)\n",
    "d = Counter(a=9, b=4, c=2)\n",
    "elements = list(c.elements())\n",
    "c.subtract(d)\n",
    "print(elements)\n",
    "print(c)"
   ]
  },
  {
   "cell_type": "code",
   "execution_count": null,
   "id": "53b43164-551a-422d-8a22-e45de2f0cff3",
   "metadata": {},
   "outputs": [],
   "source": [
    "# 4.4"
   ]
  },
  {
   "cell_type": "code",
   "execution_count": 26,
   "id": "93ecda6d-40e7-4505-a57e-92d65c1af622",
   "metadata": {},
   "outputs": [
    {
     "name": "stdout",
     "output_type": "stream",
     "text": [
      "514229\n"
     ]
    }
   ],
   "source": [
    "fibolist=[0, 1, 1, 2, 3, 5, 8, 13, 21, 34, 55, 89, 144, 233, 377, 610, 987, 1597, 2584, 4181, 6765, 10946, 17711, 28657, 46368, 75025, 121393, 196418, 317811]\n",
    "\n",
    "last_number = fibolist[-1] + fibolist[-2]\n",
    "print(last_number)"
   ]
  },
  {
   "cell_type": "code",
   "execution_count": null,
   "id": "b11a657a-e194-4b22-9eb4-baaa778d55a4",
   "metadata": {},
   "outputs": [],
   "source": [
    "# 4.5"
   ]
  },
  {
   "cell_type": "code",
   "execution_count": 27,
   "id": "fe46c2c9-744f-4afb-8778-1cf30fef3f04",
   "metadata": {},
   "outputs": [
    {
     "name": "stdout",
     "output_type": "stream",
     "text": [
      "832039\n"
     ]
    }
   ],
   "source": [
    "sum = sum(fibolist)\n",
    "print(sum)"
   ]
  },
  {
   "cell_type": "code",
   "execution_count": null,
   "id": "f790e331-419a-4cff-a1f7-33e1264f1f7f",
   "metadata": {},
   "outputs": [],
   "source": [
    "# 4.6"
   ]
  },
  {
   "cell_type": "code",
   "execution_count": 28,
   "id": "f3a0c7fb-bd2f-4be6-aea8-d7575d494448",
   "metadata": {},
   "outputs": [
    {
     "name": "stdout",
     "output_type": "stream",
     "text": [
      "[0, 1, 1, 2, 3, 5, 8, 13, 21, 34, 55, 89, 144, 233, 377, 610, 987, 1597, 2584, 4181, 6765, 10946, 17711, 28657, 46368, 75025, 121393, 196418, 317811, 514229]\n"
     ]
    }
   ],
   "source": [
    "fibolist.append(last_number)\n",
    "print(fibolist)"
   ]
  },
  {
   "cell_type": "code",
   "execution_count": 35,
   "id": "df25acbd-3a34-42b7-ad94-1fc95322af0f",
   "metadata": {},
   "outputs": [],
   "source": [
    "# 4.7"
   ]
  },
  {
   "cell_type": "code",
   "execution_count": 34,
   "id": "557be9be-d49b-45b7-b952-724fa9898498",
   "metadata": {},
   "outputs": [
    {
     "name": "stdout",
     "output_type": "stream",
     "text": [
      "[514229, 317811, 196418, 121393, 75025, 46368, 28657, 17711, 10946, 6765, 4181, 2584, 1597, 987, 610, 377, 233, 144, 89, 55, 34, 21, 13, 8, 5, 3, 2, 1, 1, 0]\n"
     ]
    }
   ],
   "source": [
    "copy = fibolist.copy()\n",
    "copy.reverse()\n",
    "print(copy)"
   ]
  },
  {
   "cell_type": "code",
   "execution_count": null,
   "id": "da6c1cbd-2999-4daf-a830-8bd861f27bd8",
   "metadata": {},
   "outputs": [],
   "source": [
    "# 4.8"
   ]
  },
  {
   "cell_type": "code",
   "execution_count": 37,
   "id": "e8cd8a0a-2f1f-4077-9028-a99ae1e81fb9",
   "metadata": {},
   "outputs": [
    {
     "name": "stdout",
     "output_type": "stream",
     "text": [
      "29473 is not a fibo number\n"
     ]
    }
   ],
   "source": [
    "if 29473 in fibolist:\n",
    "    fibo_29473 = \"29473 is a fibo number\"\n",
    "else:\n",
    "    fibo_29473 = \"29473 is not a fibo number\"\n",
    "\n",
    "print(fibo_29473)"
   ]
  },
  {
   "cell_type": "code",
   "execution_count": null,
   "id": "7d2f9dc9-6ddb-4678-9f1a-418561c655d3",
   "metadata": {},
   "outputs": [],
   "source": [
    "# 4.9"
   ]
  },
  {
   "cell_type": "code",
   "execution_count": 39,
   "id": "5e854edb-f8b8-4c41-a1ee-290d2ef22be7",
   "metadata": {},
   "outputs": [
    {
     "name": "stdout",
     "output_type": "stream",
     "text": [
      "{1, 2, 3, 4, 5, 6, 7, 8, 9}\n",
      "{8, 9, 6, 7}\n",
      "{1, 2, 3, 4, 5}\n",
      "{1, 2, 3, 4, 5, 10, 11, 12, 13}\n"
     ]
    }
   ],
   "source": [
    "set1 = {1,2,3,4,5,6,7,8,9}\n",
    "set2= {6,7,8,9,10,11,12,13}\n",
    "union = set1.union()\n",
    "print(union)\n",
    "intersection = set1.intersection(set2)\n",
    "print(intersection)\n",
    "difference = set1.difference(set2)\n",
    "print(difference)\n",
    "symmetric_diff = set1.symmetric_difference(set2)\n",
    "print(symmetric_diff)"
   ]
  },
  {
   "cell_type": "code",
   "execution_count": null,
   "id": "12b893dd-cd0b-4318-9796-bb7dee343796",
   "metadata": {},
   "outputs": [],
   "source": [
    "# 4.10"
   ]
  },
  {
   "cell_type": "code",
   "execution_count": 44,
   "id": "b6f48525-b656-4572-ac4a-68f285a1786c",
   "metadata": {},
   "outputs": [],
   "source": [
    "dict1 = {\"A\":0,\"B\":0,\"C\":0}\n",
    "dict2 = dict([(\"A\",0),(\"B\",0),(\"C\",0)])"
   ]
  },
  {
   "cell_type": "code",
   "execution_count": null,
   "id": "f0205c15-2ab7-48ea-a7d6-daf83f0be8ed",
   "metadata": {},
   "outputs": [],
   "source": [
    "# 4.11"
   ]
  },
  {
   "cell_type": "code",
   "execution_count": 45,
   "id": "bbeaaf7f-b3a5-4ca5-9c44-4d1565166dff",
   "metadata": {},
   "outputs": [
    {
     "name": "stdout",
     "output_type": "stream",
     "text": [
      "{2: True, 9999: False}\n"
     ]
    }
   ],
   "source": [
    "numbers = [2,9999]\n",
    "fibo_dict = {}\n",
    "for number in numbers:\n",
    "    if number in fibolist:\n",
    "        fibo_dict[number] = True\n",
    "    else:\n",
    "        fibo_dict[number] = False\n",
    "print(fibo_dict)"
   ]
  },
  {
   "cell_type": "code",
   "execution_count": null,
   "id": "2807adad-bfdc-4bd0-ae3c-c77b13bed0fb",
   "metadata": {},
   "outputs": [],
   "source": []
  }
 ],
 "metadata": {
  "kernelspec": {
   "display_name": "Python 3 (ipykernel)",
   "language": "python",
   "name": "python3"
  },
  "language_info": {
   "codemirror_mode": {
    "name": "ipython",
    "version": 3
   },
   "file_extension": ".py",
   "mimetype": "text/x-python",
   "name": "python",
   "nbconvert_exporter": "python",
   "pygments_lexer": "ipython3",
   "version": "3.11.7"
  }
 },
 "nbformat": 4,
 "nbformat_minor": 5
}
