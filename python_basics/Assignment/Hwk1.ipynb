{
 "cells": [
  {
   "metadata": {},
   "cell_type": "markdown",
   "source": "#### Exercise 3.",
   "id": "b90b047f8661e67e"
  },
  {
   "metadata": {},
   "cell_type": "markdown",
   "source": [
    "1. Write a program flow which will assign `grade` by the test scores using the following conditions:\n",
    "\n",
    "    1. If score >= 90, grade=\"A\"\n",
    "    2. If 80 >= score >90, grade=\"B\"\n",
    "    3. If 70 >= score >80, grade=\"C\"\n",
    "    4. If 60 >= score >70, grade=\"D\"\n",
    "    5. IF score < 60, grade=\"F\""
   ],
   "id": "5648fa239df01e85"
  },
  {
   "metadata": {
    "ExecuteTime": {
     "end_time": "2024-05-09T21:17:20.240295Z",
     "start_time": "2024-05-09T21:17:20.230693Z"
    }
   },
   "cell_type": "code",
   "source": [
    "# code up your solution here\n",
    "score, grade = int(-1), ''\n",
    "\n",
    "if score >= 90:\n",
    "    grade = \"A\"\n",
    "elif score >= 80:\n",
    "    grade = \"B\"\n",
    "elif score >= 70:\n",
    "    grade = \"C\"\n",
    "elif score >= 60:\n",
    "    grade = \"D\"\n",
    "elif score>=0:\n",
    "    grade = \"F\"\n",
    "else:\n",
    "    grade = 'Invalid or Incomplete'\n",
    "print(f'Based on your score of {score}, your grade is {grade}.')"
   ],
   "id": "feacc69da4a04a7d",
   "outputs": [
    {
     "name": "stdout",
     "output_type": "stream",
     "text": [
      "Based on your score of -1, your grade is Invalid or Incomplete.\n"
     ]
    }
   ],
   "execution_count": 4
  },
  {
   "metadata": {},
   "cell_type": "markdown",
   "source": [
    "2. x=1, y=1, write a flow to assign messge to different value base on different criteria as below, and in the end print out the message:\n",
    "\n",
    "    a. If x less than y, messge=\"x is less than y\"\n",
    "    \n",
    "    b. If x larger than y, messge=\"x is greater than y\"\n",
    "    \n",
    "    c. If x equal to y, messge=\"x is the same as y\"\n"
   ],
   "id": "791c05e4cfeafd54"
  },
  {
   "metadata": {
    "ExecuteTime": {
     "end_time": "2024-05-09T21:18:53.989894Z",
     "start_time": "2024-05-09T21:18:53.979894Z"
    }
   },
   "cell_type": "code",
   "source": [
    "# code up your solution here\n",
    "x, y = 1, 1\n",
    "if x < y:\n",
    "    message = f\"x is less than y\"\n",
    "elif x > y:\n",
    "    message = f\"x is greater than y\"\n",
    "else:\n",
    "    message = f\"x is the same as y\"\n",
    "print(message)"
   ],
   "id": "674703b35ae85e38",
   "outputs": [
    {
     "name": "stdout",
     "output_type": "stream",
     "text": [
      "x is the same as y\n"
     ]
    }
   ],
   "execution_count": 5
  },
  {
   "metadata": {},
   "cell_type": "markdown",
   "source": "#### Exercise 4. ",
   "id": "11ea941d74195ade"
  },
  {
   "metadata": {},
   "cell_type": "markdown",
   "source": "1. [Read more on `list`](https://docs.python.org/3/tutorial/datastructures.html#more-on-lists) and select 2 list methods not mentioned in class to give examples of using them.",
   "id": "1a9e36f0c2c908be"
  },
  {
   "metadata": {
    "ExecuteTime": {
     "end_time": "2024-05-09T22:01:11.502678Z",
     "start_time": "2024-05-09T22:01:11.493714Z"
    }
   },
   "cell_type": "code",
   "source": [
    "# example showcasing list.index(x[, start[, end]])\n",
    "lst = [3, 1, 2, 3, 3, 4, 3, 5, 1, 3]\n",
    "indices, i = [], 0\n",
    "value = 3\n",
    "\n",
    "while True:\n",
    "    try:\n",
    "        # find the occurrence of a specific value and update i to the index\n",
    "        i = lst.index(value, i)\n",
    "        # add i to the list\n",
    "        indices.append(i)\n",
    "        # advance i to the next index\n",
    "        i += 1\n",
    "    except ValueError:\n",
    "        break\n",
    "print(f'The value {value} occured at the index of {indices} of the given list.')"
   ],
   "id": "809282bcf3ac7a16",
   "outputs": [
    {
     "name": "stdout",
     "output_type": "stream",
     "text": [
      "The value 3 occured at the index of [0, 3, 4, 6, 9] of the given list.\n"
     ]
    }
   ],
   "execution_count": 25
  },
  {
   "metadata": {
    "ExecuteTime": {
     "end_time": "2024-05-09T22:05:15.789915Z",
     "start_time": "2024-05-09T22:05:15.782912Z"
    }
   },
   "cell_type": "code",
   "source": [
    "# example showcasing list.count(x)\n",
    "print(f'The value {value} occured {lst.count(value)} times in the given list.')"
   ],
   "id": "5d138ed0db736ed6",
   "outputs": [
    {
     "name": "stdout",
     "output_type": "stream",
     "text": [
      "The value 3 occured 5 times in the given list.\n"
     ]
    }
   ],
   "execution_count": 28
  },
  {
   "metadata": {},
   "cell_type": "markdown",
   "source": "2. How can you check if a `key` is already in a dictionary? Give an example.",
   "id": "eddcfc1f0efc699a"
  },
  {
   "metadata": {
    "ExecuteTime": {
     "end_time": "2024-05-09T22:57:04.525688Z",
     "start_time": "2024-05-09T22:57:04.517302Z"
    }
   },
   "cell_type": "code",
   "source": [
    "temp_dict = {'a': 1, 'b': 0, 'c': -1}\n",
    "# key to check\n",
    "key = 'b' \n",
    "if key in temp_dict.keys():\n",
    "    print(f'The key {key} is already in the dictionary.')\n",
    "else:\n",
    "    print(f'The key {key} is not in the dictionary.')"
   ],
   "id": "18a9c9bbe648ddc7",
   "outputs": [
    {
     "name": "stdout",
     "output_type": "stream",
     "text": [
      "The key b is already in the dictionary.\n"
     ]
    }
   ],
   "execution_count": 29
  },
  {
   "metadata": {},
   "cell_type": "markdown",
   "source": " 3. [Explore how `Counter`](https://docs.python.org/3/library/collections.html#collections.Counter) works as another type of collection. Give 2 examples to use `Counter`.",
   "id": "c1c5b4e01c6d58ae"
  },
  {
   "metadata": {
    "ExecuteTime": {
     "end_time": "2024-05-10T04:48:59.483473Z",
     "start_time": "2024-05-10T04:48:59.475243Z"
    }
   },
   "cell_type": "code",
   "source": [
    "from collections import Counter\n",
    "c = Counter(a=4, b=2, c=0, d=-2)\n",
    "# example showcasing Counter.most_common([n])\n",
    "print(c.most_common(2))"
   ],
   "id": "63443382c04d86bb",
   "outputs": [
    {
     "name": "stdout",
     "output_type": "stream",
     "text": [
      "[('a', 4), ('b', 2)]\n"
     ]
    }
   ],
   "execution_count": 31
  },
  {
   "metadata": {
    "ExecuteTime": {
     "end_time": "2024-05-10T04:49:27.713827Z",
     "start_time": "2024-05-10T04:49:27.704031Z"
    }
   },
   "cell_type": "code",
   "source": [
    "# example showcasing Counter.total()\n",
    "c.total()"
   ],
   "id": "9f43ff011767c5f8",
   "outputs": [
    {
     "data": {
      "text/plain": [
       "4"
      ]
     },
     "execution_count": 32,
     "metadata": {},
     "output_type": "execute_result"
    }
   ],
   "execution_count": 32
  },
  {
   "metadata": {},
   "cell_type": "markdown",
   "source": [
    "4. The Fibonacci Sequence is the series of numbers:\n",
    "0, 1, 1, 2, 3, 5, 8, 13, 21, 34, ...\n",
    "\n",
    "The next number is found by adding up the two numbers before it.\n",
    "Find the last element of the `fibolist`"
   ],
   "id": "1bf6243fd3a89c85"
  },
  {
   "metadata": {
    "ExecuteTime": {
     "end_time": "2024-05-10T04:54:06.064983Z",
     "start_time": "2024-05-10T04:54:06.053684Z"
    }
   },
   "cell_type": "code",
   "source": [
    "fibolist=[0, 1, 1, 2, 3, 5, 8, 13, 21, 34, 55, 89, 144, 233, 377, 610, 987, 1597, 2584, 4181, 6765, 10946, 17711, 28657, 46368, 75025, 121393, 196418, 317811]\n",
    "\n",
    "# code your solution here\n",
    "fibolist[-1]"
   ],
   "id": "38ce846881566629",
   "outputs": [
    {
     "data": {
      "text/plain": [
       "317811"
      ]
     },
     "execution_count": 33,
     "metadata": {},
     "output_type": "execute_result"
    }
   ],
   "execution_count": 33
  },
  {
   "metadata": {},
   "cell_type": "markdown",
   "source": "5. Calculate the sum of `fibolist`",
   "id": "2152995ae5ffc1a1"
  },
  {
   "metadata": {
    "ExecuteTime": {
     "end_time": "2024-05-10T04:54:26.951565Z",
     "start_time": "2024-05-10T04:54:26.942651Z"
    }
   },
   "cell_type": "code",
   "source": [
    "# code your solution here\n",
    "sum(fibolist)"
   ],
   "id": "ad80d766bb115731",
   "outputs": [
    {
     "data": {
      "text/plain": [
       "832039"
      ]
     },
     "execution_count": 35,
     "metadata": {},
     "output_type": "execute_result"
    }
   ],
   "execution_count": 35
  },
  {
   "metadata": {},
   "cell_type": "markdown",
   "source": "6. Calculate and append the next fibonacci number to `fibolist`.",
   "id": "c5ea6ca9801bcbef"
  },
  {
   "metadata": {
    "ExecuteTime": {
     "end_time": "2024-05-10T04:54:59.781736Z",
     "start_time": "2024-05-10T04:54:59.776751Z"
    }
   },
   "cell_type": "code",
   "source": [
    "# code your solution here\n",
    "fibolist.append(fibolist[-1] + fibolist[-2])"
   ],
   "id": "afb800b198a79bd7",
   "outputs": [],
   "execution_count": 36
  },
  {
   "metadata": {},
   "cell_type": "markdown",
   "source": "7. Create a reversed copy of fibolist without permanently reversing fibolist liteslf.",
   "id": "8d6a83d373ef63bb"
  },
  {
   "metadata": {
    "ExecuteTime": {
     "end_time": "2024-05-10T05:33:32.897998Z",
     "start_time": "2024-05-10T05:33:32.890561Z"
    }
   },
   "cell_type": "code",
   "source": [
    "# code your solution here\n",
    "fibolist_copy = fibolist[::-1]\n",
    "print(fibolist)\n",
    "print(fibolist_copy)"
   ],
   "id": "c8e7f5ce948aa79e",
   "outputs": [
    {
     "name": "stdout",
     "output_type": "stream",
     "text": [
      "[0, 1, 1, 2, 3, 5, 8, 13, 21, 34, 55, 89, 144, 233, 377, 610, 987, 1597, 2584, 4181, 6765, 10946, 17711, 28657, 46368, 75025, 121393, 196418, 317811, 514229]\n",
      "[514229, 317811, 196418, 121393, 75025, 46368, 28657, 17711, 10946, 6765, 4181, 2584, 1597, 987, 610, 377, 233, 144, 89, 55, 34, 21, 13, 8, 5, 3, 2, 1, 1, 0]\n"
     ]
    }
   ],
   "execution_count": 37
  },
  {
   "metadata": {},
   "cell_type": "markdown",
   "source": "8. Check if `29473` is a fibonacci number, and assign the anser to variable `fibo_29473`",
   "id": "d07ed5650f8beebd"
  },
  {
   "metadata": {
    "ExecuteTime": {
     "end_time": "2024-05-10T05:35:00.405859Z",
     "start_time": "2024-05-10T05:35:00.400137Z"
    }
   },
   "cell_type": "code",
   "source": [
    "# code your solution here\n",
    "fibo_29473 = 29473 in fibolist\n",
    "print(fibo_29473)"
   ],
   "id": "8d044c12e9c55ce6",
   "outputs": [
    {
     "name": "stdout",
     "output_type": "stream",
     "text": [
      "False\n"
     ]
    }
   ],
   "execution_count": 39
  },
  {
   "metadata": {},
   "cell_type": "markdown",
   "source": "9. Create two sets. Calculate the union, intersection, difference and symmetric difference for the two sets.",
   "id": "a2efb7b67302e3bc"
  },
  {
   "metadata": {
    "ExecuteTime": {
     "end_time": "2024-05-10T05:36:20.673637Z",
     "start_time": "2024-05-10T05:36:20.663054Z"
    }
   },
   "cell_type": "code",
   "source": [
    "# code your solution here\n",
    "set1, set2 = {1, 2, 3, 4, 5}, {4, 5, 6, 7, 8}\n",
    "union = set1.union(set2)\n",
    "intersection = set1.intersection(set2)\n",
    "difference = set1.difference(set2)\n",
    "symmetric_difference = set1.symmetric_difference(set2)\n",
    "print(f'Union: {union}')\n",
    "print(f'Intersection: {intersection}')\n",
    "print(f'Difference: {difference}')\n",
    "print(f'Symmetric Difference: {symmetric_difference}')"
   ],
   "id": "f9c42c1d6c82b8ef",
   "outputs": [
    {
     "name": "stdout",
     "output_type": "stream",
     "text": [
      "Union: {1, 2, 3, 4, 5, 6, 7, 8}\n",
      "Intersection: {4, 5}\n",
      "Difference: {1, 2, 3}\n",
      "Symmetric Difference: {1, 2, 3, 6, 7, 8}\n"
     ]
    }
   ],
   "execution_count": 42
  },
  {
   "metadata": {},
   "cell_type": "markdown",
   "source": "10. Creat a dictionary using at least two different methods.",
   "id": "8d16ad3be52c0d2d"
  },
  {
   "metadata": {
    "ExecuteTime": {
     "end_time": "2024-05-10T05:43:41.916181Z",
     "start_time": "2024-05-10T05:43:41.907847Z"
    }
   },
   "cell_type": "code",
   "source": [
    "# code your solution here\n",
    "## method 1\n",
    "dict1 = dict(a=1, b=2, c=3)\n",
    "## method 2\n",
    "dict2 = {'a': 1, 'b': 2, 'c': 3}\n",
    "\n",
    "print(dict1 == dict2)\n"
   ],
   "id": "6e86364c8e2a8dc8",
   "outputs": [
    {
     "name": "stdout",
     "output_type": "stream",
     "text": [
      "True\n"
     ]
    }
   ],
   "execution_count": 54
  },
  {
   "metadata": {
    "ExecuteTime": {
     "end_time": "2024-05-10T05:43:32.424923Z",
     "start_time": "2024-05-10T05:43:32.415965Z"
    }
   },
   "cell_type": "code",
   "source": [
    "# refer to class material above for 3 ways\n",
    "# method 1\n",
    "print(dict1.get('a'))\n",
    "# method 2\n",
    "print(dict1['b'])\n",
    "# method 3\n",
    "print(list(dict1.items())[2][1])"
   ],
   "id": "61725be1835846bf",
   "outputs": [
    {
     "name": "stdout",
     "output_type": "stream",
     "text": [
      "1\n",
      "2\n",
      "3\n"
     ]
    }
   ],
   "execution_count": 53
  },
  {
   "metadata": {},
   "cell_type": "markdown",
   "source": "11.  Create a dictionary `fibo_dict` with the numbers as keys, and boolean value=`True` if the number is fibonacci number, and `False` otherwise.",
   "id": "72dd33c532fc9d26"
  },
  {
   "metadata": {
    "ExecuteTime": {
     "end_time": "2024-05-10T05:47:16.378521Z",
     "start_time": "2024-05-10T05:47:16.302172Z"
    }
   },
   "cell_type": "code",
   "source": [
    "# code your solution here\n",
    "fibo_dict = {n: n in fibolist for n in range(0, 10_000)}\n",
    "print(f'2 is a fibonacci number: {fibo_dict[2]}')\n",
    "print(f'9999 is a fibonacci number: {fibo_dict[9999]}')"
   ],
   "id": "ba7d524e0dbd5f49",
   "outputs": [
    {
     "name": "stdout",
     "output_type": "stream",
     "text": [
      "2 is a fibonacci number: True\n",
      "9999 is a fibonacci number: False\n"
     ]
    }
   ],
   "execution_count": 55
  }
 ],
 "metadata": {
  "kernelspec": {
   "display_name": "Python 3",
   "language": "python",
   "name": "python3"
  },
  "language_info": {
   "codemirror_mode": {
    "name": "ipython",
    "version": 2
   },
   "file_extension": ".py",
   "mimetype": "text/x-python",
   "name": "python",
   "nbconvert_exporter": "python",
   "pygments_lexer": "ipython2",
   "version": "2.7.6"
  }
 },
 "nbformat": 4,
 "nbformat_minor": 5
}
