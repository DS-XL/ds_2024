{
 "cells": [
  {
   "cell_type": "markdown",
   "metadata": {},
   "source": [
    "## Homework 1 (from Intro to Python 3 - Class01)\n",
    "\n",
    "Xiaoheng Cheng\n",
    "\n",
    "(Sorry about the late submission!)"
   ]
  },
  {
   "cell_type": "code",
   "execution_count": 1,
   "metadata": {},
   "outputs": [],
   "source": [
    "# set up env\n",
    "import sys, os, re, math"
   ]
  },
  {
   "cell_type": "markdown",
   "metadata": {},
   "source": [
    "### Exercise 2:\n",
    "#### 2.1. Define a fraction number with numerator=123 and denominator=456, print out the fraction number in format `a/b` and the quotient with 8 digits after decimal point.\n",
    "    \n",
    "Sample output: `\\\"123/456 = 0.269737\\\"`"
   ]
  },
  {
   "cell_type": "code",
   "execution_count": 2,
   "metadata": {},
   "outputs": [
    {
     "name": "stdout",
     "output_type": "stream",
     "text": [
      "123/456 = 0.26973684\n"
     ]
    }
   ],
   "source": [
    "# ex 2.1:\n",
    "numerator = 123\n",
    "denominator = 456\n",
    "\n",
    "# below is my solution:\n",
    "res = numerator / denominator\n",
    "print(f'{numerator:d}/{denominator:d} = {res:.8f}')"
   ]
  },
  {
   "cell_type": "markdown",
   "metadata": {},
   "source": [
    "#### 2.2. Print out every other character of the string `\"Data Science\"` using string slicing. "
   ]
  },
  {
   "cell_type": "code",
   "execution_count": 3,
   "metadata": {},
   "outputs": [
    {
     "name": "stdout",
     "output_type": "stream",
     "text": [
      "Dt cec\n",
      "['D', 't', ' ', 'c', 'e', 'c']\n"
     ]
    }
   ],
   "source": [
    "# ex 2.2: \n",
    "string_here = \"Data Science\"\n",
    "## since it only asks for string slicing & doesn't specify what separator to use, the resulting string have no delimiters:\n",
    "print(string_here[::2])\n",
    "## Otherwise, to make these characters separate:\n",
    "print(list(string_here[::2]))"
   ]
  },
  {
   "cell_type": "markdown",
   "metadata": {},
   "source": [
    "#### 2.3. The string `regex_wiki` contains the second paragraph of regular expression introduction in Wikipedia. Modify the string with all lower case and no space."
   ]
  },
  {
   "cell_type": "code",
   "execution_count": 4,
   "metadata": {},
   "outputs": [
    {
     "name": "stdout",
     "output_type": "stream",
     "text": [
      "theconceptaroseinthe1950swhentheamericanmathematicianstephencolekleeneformalized\n",
      "thedescriptionofaregularlanguage.theconceptcameintocommonusewithunixtext-processingutilities.\n",
      "differentsyntaxesforwritingregularexpressionshaveexistedsincethe1980s,onebeingtheposixstandard\n",
      "andanother,widelyused,beingtheperlsyntax.\n"
     ]
    }
   ],
   "source": [
    "# ex 2.3:\n",
    "regex_wiki = \"\"\"The concept arose in the 1950s when the American mathematician Stephen Cole Kleene formalized \n",
    "the description of a regular language. The concept came into common use with Unix text-processing utilities. \n",
    "Different syntaxes for writing regular expressions have existed since the 1980s, one being the POSIX standard \n",
    "and another, widely used, being the Perl syntax.\"\"\"\n",
    "\n",
    "# below is my solution:\n",
    "mod_wiki = regex_wiki.lower().replace(' ', '')\n",
    "print(mod_wiki)"
   ]
  },
  {
   "cell_type": "markdown",
   "metadata": {},
   "source": [
    "#### 2.4. Replace all `data` with `<3` in the following string. Use a string method to check `data` is not in the new string."
   ]
  },
  {
   "cell_type": "code",
   "execution_count": 5,
   "metadata": {},
   "outputs": [
    {
     "name": "stdout",
     "output_type": "stream",
     "text": [
      "Is \"data\" still in the string?: False\n",
      "\n",
      "FYI, the edited string: Data science continues to evolve as one of the most promising and in-demand career paths for \n",
      "skilled professionals. Today, successful <3 professionals understand that they must advance past the traditional \n",
      "skills of analyzing large amounts of <3, <3 mining, and programming skills. In order to uncover useful \n",
      "intelligence for their organizations, <3 scientists must master the full spectrum of the <3 science life cycle \n",
      "and possess a level of flexibility and understanding to maximize returns at each phase of the process.\n"
     ]
    }
   ],
   "source": [
    "# ex 2.4:\n",
    "data_science = \"\"\"Data science continues to evolve as one of the most promising and in-demand career paths for \n",
    "skilled professionals. Today, successful data professionals understand that they must advance past the traditional \n",
    "skills of analyzing large amounts of data, data mining, and programming skills. In order to uncover useful \n",
    "intelligence for their organizations, data scientists must master the full spectrum of the data science life cycle \n",
    "and possess a level of flexibility and understanding to maximize returns at each phase of the process.\"\"\"\n",
    "\n",
    "# below is my solution: (case-sensitive)\n",
    "new_string = data_science.replace('data', '<3')\n",
    "print('Is \\\"data\\\" still in the string?:', bool(re.search('data', new_string)))\n",
    "print('\\nFYI, the edited string:', new_string)"
   ]
  },
  {
   "cell_type": "code",
   "execution_count": null,
   "metadata": {},
   "outputs": [],
   "source": []
  },
  {
   "cell_type": "markdown",
   "metadata": {},
   "source": [
    "#### 2.5. (Bonus Challenge): if you are familiar with string manipulation and `regex`, use python's regular expression `re` module to replace the first `a` in all `data` in the paragraph above, and keep the original case for the word.\n",
    "\n",
    "`Data ---> D<3ta`, `data ---> d<3ta`, `DATA --- D<3TA`, etc."
   ]
  },
  {
   "cell_type": "code",
   "execution_count": 6,
   "metadata": {},
   "outputs": [
    {
     "name": "stdout",
     "output_type": "stream",
     "text": [
      "D<3ta science continues to evolve as one of the most promising and in-demand career paths for \n",
      "skilled professionals. Today, successful d<3ta professionals understand that they must advance past the traditional \n",
      "skills of analyzing large amounts of d<3ta, d<3ta mining, and programming skills. In order to uncover useful \n",
      "intelligence for their organizations, d<3ta scientists must master the full spectrum of the d<3ta science life cycle \n",
      "and possess a level of flexibility and understanding to maximize returns at each phase of the process.\n"
     ]
    }
   ],
   "source": [
    "# ex 2.5\n",
    "# a_in_data = re.compile(r'\\b[Dd]([Aa])[Tt][Aa]\\b')\n",
    "a_in_data = re.compile(r'(?<=\\bd)a(?=ta\\b)', re.IGNORECASE)\n",
    "res = a_in_data.sub(\"<3\", data_science)\n",
    "print(res)"
   ]
  },
  {
   "cell_type": "code",
   "execution_count": 7,
   "metadata": {},
   "outputs": [
    {
     "data": {
      "text/plain": [
       "'D<3TA D<3ta D<3TA d<3TA dota d<3Ta'"
      ]
     },
     "execution_count": 7,
     "metadata": {},
     "output_type": "execute_result"
    }
   ],
   "source": [
    "aaa = 'DATA Data DaTA dATA dota daTa'\n",
    "a_in_data.sub(\"<3\", aaa)"
   ]
  },
  {
   "cell_type": "markdown",
   "metadata": {},
   "source": [
    "### Exercise 3\n",
    "#### 3.1. Write a program flow which will assign grade by the test scores using the following conditions:\n",
    "(note that the OG notebook has typos.)\n",
    "- If score >= 90, grade=\"A\"\n",
    "- If 80 <= score <90, grade=\"B\"\n",
    "- If 70 <= score <80, grade=\"C\"\n",
    "- If 60 <= score <70, grade=\"D\"\n",
    "- IF score < 60, grade=\"F\""
   ]
  },
  {
   "cell_type": "code",
   "execution_count": 8,
   "metadata": {},
   "outputs": [],
   "source": [
    "# ex 3.1\n",
    "# code up your solution here\n",
    "def assign_grade(score):\n",
    "    if score >= 90:\n",
    "        return \"A\"\n",
    "    elif score >= 80:\n",
    "        return \"B\"\n",
    "    elif score >= 70:\n",
    "        return \"C\"\n",
    "    elif score >= 60:\n",
    "        return \"D\"\n",
    "    else:\n",
    "        return \"F\"\n"
   ]
  },
  {
   "cell_type": "markdown",
   "metadata": {},
   "source": [
    "#### 3.2. x=1, y=1, write a flow to assign messge to different value base on different criteria as below, and in the end print out the message:\n",
    "\n",
    "a. If x less than y, messge=\"x is less than y\"\n",
    "\n",
    "b. If x larger than y, messge=\"x is greater than y\"\n",
    "\n",
    "c. If x equal to y, messge=\"x is the same as y\""
   ]
  },
  {
   "cell_type": "code",
   "execution_count": 9,
   "metadata": {},
   "outputs": [],
   "source": [
    "# ex 3.2\n",
    "def assign_msg(x, y):\n",
    "    if x < y:\n",
    "        return \"x is less than y\"\n",
    "    elif x > y:\n",
    "        return \"x is greater than y\"\n",
    "    else:\n",
    "        return \"x is the same as y\""
   ]
  }
 ],
 "metadata": {
  "kernelspec": {
   "display_name": "Python 3",
   "language": "python",
   "name": "python3"
  },
  "language_info": {
   "codemirror_mode": {
    "name": "ipython",
    "version": 3
   },
   "file_extension": ".py",
   "mimetype": "text/x-python",
   "name": "python",
   "nbconvert_exporter": "python",
   "pygments_lexer": "ipython3",
   "version": "3.9.7"
  }
 },
 "nbformat": 4,
 "nbformat_minor": 2
}
