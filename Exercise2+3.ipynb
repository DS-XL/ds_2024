{
 "cells": [
  {
   "cell_type": "code",
   "execution_count": null,
   "id": "1177d1a5-5e51-419c-b336-2907083bb4e9",
   "metadata": {},
   "outputs": [],
   "source": [
    "#Exercise 2"
   ]
  },
  {
   "cell_type": "code",
   "execution_count": 2,
   "id": "ae423855-24ed-4a76-a1cc-1e6f0e5ce7c3",
   "metadata": {},
   "outputs": [],
   "source": [
    "#2.1 Define:\n",
    "numerator = 123\n",
    "denominator = 456"
   ]
  },
  {
   "cell_type": "code",
   "execution_count": 3,
   "id": "8fc1e75b-e13c-4366-ba92-7c9846fb41d8",
   "metadata": {},
   "outputs": [
    {
     "data": {
      "text/plain": [
       "0.26973684210526316"
      ]
     },
     "execution_count": 3,
     "metadata": {},
     "output_type": "execute_result"
    }
   ],
   "source": [
    "123/456"
   ]
  },
  {
   "cell_type": "code",
   "execution_count": null,
   "id": "b930f8f3-8236-4b4a-90d0-0ec352534f60",
   "metadata": {},
   "outputs": [],
   "source": [
    "#2.2 code up your solution below"
   ]
  },
  {
   "cell_type": "code",
   "execution_count": 6,
   "id": "fd24586b-564e-4113-a839-69759e8fb41f",
   "metadata": {},
   "outputs": [
    {
     "name": "stdout",
     "output_type": "stream",
     "text": [
      "123/456=0.26973684\n"
     ]
    }
   ],
   "source": [
    "print (str(numerator)+ '/' + str(denominator)+'='+str(round(numerator/denominator,8)))"
   ]
  },
  {
   "cell_type": "code",
   "execution_count": 11,
   "id": "ce0654aa-d8e0-47da-9150-77fc87fd5d2d",
   "metadata": {},
   "outputs": [
    {
     "name": "stdout",
     "output_type": "stream",
     "text": [
      "123/456)=0.26973684\n"
     ]
    }
   ],
   "source": [
    "print ('{0}/{1})={2:.8f}'.format (numerator, denominator, numerator/denominator))"
   ]
  },
  {
   "cell_type": "code",
   "execution_count": null,
   "id": "ba2cb201-883b-489f-9bf2-0c8c47386d10",
   "metadata": {},
   "outputs": [],
   "source": [
    "#2.3 modify the string regex_wiki with all lower case and no space."
   ]
  },
  {
   "cell_type": "code",
   "execution_count": 17,
   "id": "e714b3b0-a7c8-4041-bef7-37c1f8f9bc3b",
   "metadata": {},
   "outputs": [],
   "source": [
    "regex_wiki = \"\"\"The concept arose in the 1950s when the American mathematician Stephen Cole Kleene formalized \n",
    "the description of a regular language. The concept came into common use with Unix text-processing utilities. \n",
    "Different syntaxes for writing regular expressions have existed since the 1980s, one being the POSIX standard \n",
    "and another, widely used, being the Perl syntax.\"\"\""
   ]
  },
  {
   "cell_type": "code",
   "execution_count": 18,
   "id": "277c17a0-c9a2-483c-8527-e86acd9a737c",
   "metadata": {},
   "outputs": [
    {
     "data": {
      "text/plain": [
       "'the concept arose in the 1950s when the american mathematician stephen cole kleene formalized \\nthe description of a regular language. the concept came into common use with unix text-processing utilities. \\ndifferent syntaxes for writing regular expressions have existed since the 1980s, one being the posix standard \\nand another, widely used, being the perl syntax.'"
      ]
     },
     "execution_count": 18,
     "metadata": {},
     "output_type": "execute_result"
    }
   ],
   "source": [
    "regex_wiki.lower().replace('','')"
   ]
  },
  {
   "cell_type": "code",
   "execution_count": null,
   "id": "ff150388-b9ab-4b01-8b24-bb72ce3207b1",
   "metadata": {},
   "outputs": [],
   "source": [
    "#2.4 replace all data with <3 in the following string. USe a string method to check data is not in the new string"
   ]
  },
  {
   "cell_type": "code",
   "execution_count": 25,
   "id": "d2c97fdc-a464-433d-93ea-6651f7c65e03",
   "metadata": {},
   "outputs": [
    {
     "name": "stdout",
     "output_type": "stream",
     "text": [
      "Data science continues to evolve as one of the most promising and in-demand career paths for \n",
      "skilled professionals. Today, successful <3 professionals understand that they must advance past the traditional \n",
      "skills of analyzing large amounts of <3, <3 mining, and programming skills. In order to uncover useful \n",
      "intelligence for their organizations, <3 scientists must master the full spectrum of the <3 science life cycle \n",
      "and possess a level of flexibility and understanding to maximize returns at each phase of the process.\n"
     ]
    }
   ],
   "source": [
    "modified = data_science.replace('data','<3')\n",
    "print(modified)"
   ]
  },
  {
   "cell_type": "code",
   "execution_count": 32,
   "id": "71824f41-f0e7-4cde-bcd8-e659d2fbd97d",
   "metadata": {},
   "outputs": [],
   "source": []
  },
  {
   "cell_type": "code",
   "execution_count": null,
   "id": "8ea76b92-c59b-4f79-ab7b-941fa628b3d5",
   "metadata": {},
   "outputs": [],
   "source": [
    "#Exercise 3"
   ]
  },
  {
   "cell_type": "code",
   "execution_count": 50,
   "id": "457b0b2c-37d2-4b74-989f-c873ef865fcd",
   "metadata": {},
   "outputs": [],
   "source": [
    "if score >= 90:\n",
    "    grade = 'A'\n",
    "elif score >= 80:\n",
    "    grade = 'B'\n",
    "elif score >= 70:\n",
    "    grade = 'C'\n",
    "elif score >= 60:\n",
    "    grade = 'D'\n",
    "else:\n",
    "    grade = 'E'"
   ]
  },
  {
   "cell_type": "code",
   "execution_count": null,
   "id": "3163d1e5-1b39-4908-878f-e6fd09278564",
   "metadata": {},
   "outputs": [],
   "source": [
    "#3.2 x=1, y=1, write a flow to assign messge to different value base on different criteria as below, and in the end print out the message"
   ]
  },
  {
   "cell_type": "code",
   "execution_count": 60,
   "id": "645cf7c2-ab59-4d6c-b3fe-7fe90d8153c5",
   "metadata": {},
   "outputs": [
    {
     "name": "stdout",
     "output_type": "stream",
     "text": [
      "x is the same as y\n"
     ]
    }
   ],
   "source": [
    "x=1\n",
    "y=1\n",
    "if x<y:\n",
    "    print('x is less than y')\n",
    "elif x>y:\n",
    "    print('x is greater than y')\n",
    "else:\n",
    "    print('x is the same as y')"
   ]
  },
  {
   "cell_type": "code",
   "execution_count": null,
   "id": "02de7ab7-99d2-4632-ba06-e11eb22922f2",
   "metadata": {},
   "outputs": [],
   "source": []
  }
 ],
 "metadata": {
  "kernelspec": {
   "display_name": "Python 3 (ipykernel)",
   "language": "python",
   "name": "python3"
  },
  "language_info": {
   "codemirror_mode": {
    "name": "ipython",
    "version": 3
   },
   "file_extension": ".py",
   "mimetype": "text/x-python",
   "name": "python",
   "nbconvert_exporter": "python",
   "pygments_lexer": "ipython3",
   "version": "3.11.7"
  }
 },
 "nbformat": 4,
 "nbformat_minor": 5
}
