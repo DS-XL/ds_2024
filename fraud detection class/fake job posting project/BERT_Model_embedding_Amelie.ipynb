{
 "cells": [
  {
   "cell_type": "code",
   "execution_count": 62,
   "id": "29636802-5aa4-4242-a810-fe2880c278b7",
   "metadata": {
    "tags": []
   },
   "outputs": [],
   "source": [
    "import numpy as np\n",
    "import pandas as pd\n",
    "import seaborn as sns\n",
    "import matplotlib.pyplot as plt\n",
    "import nltk\n",
    "from sklearn.feature_extraction.text import CountVectorizer\n",
    "from sklearn.feature_extraction.text import TfidfVectorizer\n",
    "from sklearn.preprocessing import LabelBinarizer\n",
    "from nltk.corpus import stopwords\n",
    "from nltk.stem.porter import PorterStemmer\n",
    "from wordcloud import WordCloud,STOPWORDS\n",
    "from nltk.stem import WordNetLemmatizer\n",
    "from nltk.tokenize import word_tokenize,sent_tokenize\n",
    "from bs4 import BeautifulSoup\n",
    "import re,string,unicodedata\n",
    "from nltk.tokenize.toktok import ToktokTokenizer\n",
    "from nltk.stem import LancasterStemmer,WordNetLemmatizer\n",
    "from sklearn.linear_model import LogisticRegression,SGDClassifier\n",
    "from sklearn.naive_bayes import MultinomialNB\n",
    "from sklearn.svm import SVC\n",
    "from sklearn.metrics import classification_report,confusion_matrix,accuracy_score\n",
    "from sklearn.model_selection import train_test_split\n",
    "from string import punctuation\n",
    "from nltk import pos_tag\n",
    "from nltk.corpus import wordnet\n",
    "import keras\n",
    "from keras.layers import Dense\n",
    "from keras.models import Sequential\n",
    "import spacy\n",
    "from sklearn.model_selection import StratifiedKFold\n",
    "from sklearn.metrics import roc_auc_score\n",
    "from transformers import BertTokenizer, TFBertForSequenceClassification\n",
    "from tensorflow.keras.optimizers import Adam\n",
    "import tensorflow as tf\n",
    "from tensorflow import keras\n",
    "from tensorflow.keras import layers\n",
    "from sklearn.metrics import accuracy_score, precision_score, recall_score, f1_score, roc_auc_score, roc_curve, auc\n"
   ]
  },
  {
   "cell_type": "markdown",
   "id": "8770bba3-fb1d-4a14-bae0-311d6b471b11",
   "metadata": {},
   "source": [
    "#### 3.3 Now try BERT model\n",
    "\n",
    "BERT(Bidirectional Encoder Representations from Transformers): One of the state-of-the-art models for NLP tasks. Fine-tune a pre-trained BERT model for text classification.\n",
    "Loading this pre-trained model, which has been trained on a large corpus (like Wikipedia and BookCorpus). Then fine-tune this model on this dataset"
   ]
  },
  {
   "cell_type": "code",
   "execution_count": 4,
   "id": "304c6efb-98df-433d-bc1d-f03512f9bfe0",
   "metadata": {
    "tags": []
   },
   "outputs": [
    {
     "name": "stderr",
     "output_type": "stream",
     "text": [
      "/Users/lixiaohua/anaconda3/envs/myenv/lib/python3.10/site-packages/huggingface_hub/file_download.py:1150: FutureWarning: `resume_download` is deprecated and will be removed in version 1.0.0. Downloads always resume when possible. If you want to force a new download, use `force_download=True`.\n",
      "  warnings.warn(\n"
     ]
    },
    {
     "data": {
      "application/vnd.jupyter.widget-view+json": {
       "model_id": "348d5b6a7e6f4674aa37567e3ec0cb92",
       "version_major": 2,
       "version_minor": 0
      },
      "text/plain": [
       "tokenizer_config.json:   0%|          | 0.00/48.0 [00:00<?, ?B/s]"
      ]
     },
     "metadata": {},
     "output_type": "display_data"
    },
    {
     "data": {
      "application/vnd.jupyter.widget-view+json": {
       "model_id": "106b543aaaf640fd89406c8c37c15778",
       "version_major": 2,
       "version_minor": 0
      },
      "text/plain": [
       "vocab.txt:   0%|          | 0.00/232k [00:00<?, ?B/s]"
      ]
     },
     "metadata": {},
     "output_type": "display_data"
    },
    {
     "data": {
      "application/vnd.jupyter.widget-view+json": {
       "model_id": "9e1add1e355049c19f77bd7eb35717cb",
       "version_major": 2,
       "version_minor": 0
      },
      "text/plain": [
       "tokenizer.json:   0%|          | 0.00/466k [00:00<?, ?B/s]"
      ]
     },
     "metadata": {},
     "output_type": "display_data"
    },
    {
     "data": {
      "application/vnd.jupyter.widget-view+json": {
       "model_id": "627bfbeed1184bdc995e27393dfbeb99",
       "version_major": 2,
       "version_minor": 0
      },
      "text/plain": [
       "config.json:   0%|          | 0.00/483 [00:00<?, ?B/s]"
      ]
     },
     "metadata": {},
     "output_type": "display_data"
    },
    {
     "data": {
      "application/vnd.jupyter.widget-view+json": {
       "model_id": "955ea5510f994b59a3a27f12d9b8a19b",
       "version_major": 2,
       "version_minor": 0
      },
      "text/plain": [
       "model.safetensors:   0%|          | 0.00/268M [00:00<?, ?B/s]"
      ]
     },
     "metadata": {},
     "output_type": "display_data"
    },
    {
     "name": "stderr",
     "output_type": "stream",
     "text": [
      "Some weights of the PyTorch model were not used when initializing the TF 2.0 model TFDistilBertModel: ['vocab_projector.bias', 'vocab_layer_norm.weight', 'vocab_transform.bias', 'vocab_layer_norm.bias', 'vocab_transform.weight']\n",
      "- This IS expected if you are initializing TFDistilBertModel from a PyTorch model trained on another task or with another architecture (e.g. initializing a TFBertForSequenceClassification model from a BertForPreTraining model).\n",
      "- This IS NOT expected if you are initializing TFDistilBertModel from a PyTorch model that you expect to be exactly identical (e.g. initializing a TFBertForSequenceClassification model from a BertForSequenceClassification model).\n",
      "All the weights of TFDistilBertModel were initialized from the PyTorch model.\n",
      "If your task is similar to the task the model of the checkpoint was trained on, you can already use TFDistilBertModel for predictions without further training.\n"
     ]
    }
   ],
   "source": [
    "from transformers import 2w, DistilBertTokenizer\n",
    "\n",
    "tokenizer = DistilBertTokenizer.from_pretrained('distilbert-base-uncased')\n",
    "model = TFDistilBertModel.from_pretrained('distilbert-base-uncased')\n"
   ]
  },
  {
   "cell_type": "code",
   "execution_count": 6,
   "id": "dbe8394c-2e01-4e4c-b266-0a475a12767c",
   "metadata": {},
   "outputs": [
    {
     "data": {
      "text/html": [
       "<div>\n",
       "<style scoped>\n",
       "    .dataframe tbody tr th:only-of-type {\n",
       "        vertical-align: middle;\n",
       "    }\n",
       "\n",
       "    .dataframe tbody tr th {\n",
       "        vertical-align: top;\n",
       "    }\n",
       "\n",
       "    .dataframe thead th {\n",
       "        text-align: right;\n",
       "    }\n",
       "</style>\n",
       "<table border=\"1\" class=\"dataframe\">\n",
       "  <thead>\n",
       "    <tr style=\"text-align: right;\">\n",
       "      <th></th>\n",
       "      <th>telecommuting</th>\n",
       "      <th>has_company_logo</th>\n",
       "      <th>has_questions</th>\n",
       "      <th>employment_type_Full-time</th>\n",
       "      <th>employment_type_None</th>\n",
       "      <th>employment_type_Other</th>\n",
       "      <th>employment_type_Part-time</th>\n",
       "      <th>employment_type_Temporary</th>\n",
       "      <th>required_experience_Director</th>\n",
       "      <th>required_experience_Entry level</th>\n",
       "      <th>required_experience_Executive</th>\n",
       "      <th>required_experience_Internship</th>\n",
       "      <th>required_experience_Mid-Senior level</th>\n",
       "      <th>required_experience_None</th>\n",
       "      <th>required_experience_Not Applicable</th>\n",
       "      <th>cleaned_text4</th>\n",
       "      <th>fraudulent</th>\n",
       "    </tr>\n",
       "  </thead>\n",
       "  <tbody>\n",
       "    <tr>\n",
       "      <th>0</th>\n",
       "      <td>False</td>\n",
       "      <td>True</td>\n",
       "      <td>False</td>\n",
       "      <td>False</td>\n",
       "      <td>False</td>\n",
       "      <td>True</td>\n",
       "      <td>False</td>\n",
       "      <td>False</td>\n",
       "      <td>False</td>\n",
       "      <td>False</td>\n",
       "      <td>False</td>\n",
       "      <td>True</td>\n",
       "      <td>False</td>\n",
       "      <td>False</td>\n",
       "      <td>False</td>\n",
       "      <td>marketing intern were weve create groundbreaki...</td>\n",
       "      <td>0</td>\n",
       "    </tr>\n",
       "    <tr>\n",
       "      <th>1</th>\n",
       "      <td>False</td>\n",
       "      <td>True</td>\n",
       "      <td>False</td>\n",
       "      <td>True</td>\n",
       "      <td>False</td>\n",
       "      <td>False</td>\n",
       "      <td>False</td>\n",
       "      <td>False</td>\n",
       "      <td>False</td>\n",
       "      <td>False</td>\n",
       "      <td>False</td>\n",
       "      <td>False</td>\n",
       "      <td>False</td>\n",
       "      <td>False</td>\n",
       "      <td>True</td>\n",
       "      <td>customer service cloud video production second...</td>\n",
       "      <td>0</td>\n",
       "    </tr>\n",
       "    <tr>\n",
       "      <th>2</th>\n",
       "      <td>False</td>\n",
       "      <td>True</td>\n",
       "      <td>False</td>\n",
       "      <td>False</td>\n",
       "      <td>True</td>\n",
       "      <td>False</td>\n",
       "      <td>False</td>\n",
       "      <td>False</td>\n",
       "      <td>False</td>\n",
       "      <td>False</td>\n",
       "      <td>False</td>\n",
       "      <td>False</td>\n",
       "      <td>False</td>\n",
       "      <td>True</td>\n",
       "      <td>False</td>\n",
       "      <td>commissioning machinery assistant cma valor se...</td>\n",
       "      <td>0</td>\n",
       "    </tr>\n",
       "  </tbody>\n",
       "</table>\n",
       "</div>"
      ],
      "text/plain": [
       "   telecommuting  has_company_logo  has_questions  employment_type_Full-time  \\\n",
       "0          False              True          False                      False   \n",
       "1          False              True          False                       True   \n",
       "2          False              True          False                      False   \n",
       "\n",
       "   employment_type_None  employment_type_Other  employment_type_Part-time  \\\n",
       "0                 False                   True                      False   \n",
       "1                 False                  False                      False   \n",
       "2                  True                  False                      False   \n",
       "\n",
       "   employment_type_Temporary  required_experience_Director  \\\n",
       "0                      False                         False   \n",
       "1                      False                         False   \n",
       "2                      False                         False   \n",
       "\n",
       "   required_experience_Entry level  required_experience_Executive  \\\n",
       "0                            False                          False   \n",
       "1                            False                          False   \n",
       "2                            False                          False   \n",
       "\n",
       "   required_experience_Internship  required_experience_Mid-Senior level  \\\n",
       "0                            True                                 False   \n",
       "1                           False                                 False   \n",
       "2                           False                                 False   \n",
       "\n",
       "   required_experience_None  required_experience_Not Applicable  \\\n",
       "0                     False                               False   \n",
       "1                     False                                True   \n",
       "2                      True                               False   \n",
       "\n",
       "                                       cleaned_text4  fraudulent  \n",
       "0  marketing intern were weve create groundbreaki...           0  \n",
       "1  customer service cloud video production second...           0  \n",
       "2  commissioning machinery assistant cma valor se...           0  "
      ]
     },
     "execution_count": 6,
     "metadata": {},
     "output_type": "execute_result"
    }
   ],
   "source": [
    "data_concat_t = pd.read_csv('data_concat_t.csv')\n",
    "data_concat_t.head(3)"
   ]
  },
  {
   "cell_type": "code",
   "execution_count": 46,
   "id": "1159897a-6291-42cf-9919-8006c93e30a8",
   "metadata": {},
   "outputs": [
    {
     "data": {
      "text/plain": [
       "telecommuting                           0\n",
       "has_company_logo                        0\n",
       "has_questions                           0\n",
       "employment_type_Full-time               0\n",
       "employment_type_None                    0\n",
       "employment_type_Other                   0\n",
       "employment_type_Part-time               0\n",
       "employment_type_Temporary               0\n",
       "required_experience_Director            0\n",
       "required_experience_Entry level         0\n",
       "required_experience_Executive           0\n",
       "required_experience_Internship          0\n",
       "required_experience_Mid-Senior level    0\n",
       "required_experience_None                0\n",
       "required_experience_Not Applicable      0\n",
       "cleaned_text4                           0\n",
       "fraudulent                              0\n",
       "dtype: int64"
      ]
     },
     "execution_count": 46,
     "metadata": {},
     "output_type": "execute_result"
    }
   ],
   "source": [
    "data_concat_t.isnull().sum()"
   ]
  },
  {
   "cell_type": "code",
   "execution_count": 8,
   "id": "e5df5982-224b-48c1-b18a-f69c0ecea2fb",
   "metadata": {
    "tags": []
   },
   "outputs": [],
   "source": [
    "X = data_concat_t.drop('fraudulent', axis=1)\n",
    "y = data_concat_t['fraudulent']"
   ]
  },
  {
   "cell_type": "code",
   "execution_count": 37,
   "id": "933a556b-ad5b-458f-8d8f-f674521e5133",
   "metadata": {
    "tags": []
   },
   "outputs": [
    {
     "name": "stdout",
     "output_type": "stream",
     "text": [
      "CPU times: user 49.3 s, sys: 48.7 ms, total: 49.3 s\n",
      "Wall time: 49.3 s\n"
     ]
    }
   ],
   "source": [
    "%%time\n",
    "# Tokenization\n",
    "# tokenized = X_train['cleaned_text4'].apply((lambda x: tokenizer.encode(x, max_length = 30, truncation=True, add_special_tokens=True)))\n",
    "# tokenized.shape\n",
    "\n",
    "X_tokenized = tokenizer(\n",
    "    list(X['cleaned_text4']),  # Convert Series to list\n",
    "    padding=True, \n",
    "    truncation=True, \n",
    "    max_length=30, \n",
    "    return_tensors=\"tf\"  # Return as TensorFlow tensors\n",
    ")"
   ]
  },
  {
   "cell_type": "code",
   "execution_count": 38,
   "id": "e253754a-722e-4924-9fed-18e731bf724a",
   "metadata": {},
   "outputs": [
    {
     "data": {
      "text/plain": [
       "{'input_ids': <tf.Tensor: shape=(17880, 30), dtype=int32, numpy=\n",
       "array([[  101,  5821, 25204, ...,  3330,  2136,   102],\n",
       "       [  101,  8013,  2326, ...,  3965,  5973,   102],\n",
       "       [  101, 21612, 10394, ...,  2296,  3357,   102],\n",
       "       ...,\n",
       "       [  101,  2622,  3465, ...,  2152,  3737,   102],\n",
       "       [  101,  8425,  5859, ...,  2640,  3305,   102],\n",
       "       [  101,  4773,  4646, ...,  9130,  5799,   102]], dtype=int32)>, 'attention_mask': <tf.Tensor: shape=(17880, 30), dtype=int32, numpy=\n",
       "array([[1, 1, 1, ..., 1, 1, 1],\n",
       "       [1, 1, 1, ..., 1, 1, 1],\n",
       "       [1, 1, 1, ..., 1, 1, 1],\n",
       "       ...,\n",
       "       [1, 1, 1, ..., 1, 1, 1],\n",
       "       [1, 1, 1, ..., 1, 1, 1],\n",
       "       [1, 1, 1, ..., 1, 1, 1]], dtype=int32)>}"
      ]
     },
     "execution_count": 38,
     "metadata": {},
     "output_type": "execute_result"
    }
   ],
   "source": [
    "X_tokenized"
   ]
  },
  {
   "cell_type": "code",
   "execution_count": 19,
   "id": "d373c27b-2a82-4f2b-954b-b292f621797f",
   "metadata": {
    "tags": []
   },
   "outputs": [],
   "source": [
    "# # No need to fine tune the BERT model in here. Ignore below.\n",
    "# Padding ==> convert 1D array to 2D array\n",
    "# max_len = 0\n",
    "# for i in tokenized.values:\n",
    "#     if len(i) > max_len:\n",
    "#         max_len = len(i)\n",
    "\n",
    "# padded = np.array([i + [0]*(max_len-len(i)) for i in tokenized.values])\n",
    "# np.array(padded).shape"
   ]
  },
  {
   "cell_type": "code",
   "execution_count": 27,
   "id": "ced05338-d7bc-4088-ace2-ebd51bf7e5f3",
   "metadata": {
    "tags": []
   },
   "outputs": [],
   "source": [
    "# Masking ==>  ignore (mask) the padding we've added\n",
    "# attention_mask = np.where(padded != 0, 1, 0)\n",
    "# attention_mask.shape"
   ]
  },
  {
   "cell_type": "markdown",
   "id": "45f53747-3296-4252-9567-3441f975c2cb",
   "metadata": {},
   "source": [
    "#### Fit the tokens into the model\n",
    "Get the last hidden state"
   ]
  },
  {
   "cell_type": "code",
   "execution_count": 40,
   "id": "0f66e793-1c5a-4587-af9a-431606fe8ced",
   "metadata": {},
   "outputs": [],
   "source": [
    "bert_output = model(X_tokenized).last_hidden_state"
   ]
  },
  {
   "cell_type": "code",
   "execution_count": 41,
   "id": "4fcfcd82-79d4-4c28-ac75-729aba976c64",
   "metadata": {},
   "outputs": [
    {
     "data": {
      "text/plain": [
       "<tf.Tensor: shape=(17880, 30, 768), dtype=float32, numpy=\n",
       "array([[[-0.05980423, -0.02481304,  0.00910424, ..., -0.33117932,\n",
       "          0.30045524,  0.03914884],\n",
       "        [ 0.06630781, -0.00888567,  0.06987807, ..., -0.47503838,\n",
       "          0.31529167, -0.06729171],\n",
       "        [-0.17012228,  0.26836365,  0.1909812 , ..., -0.3302111 ,\n",
       "         -0.11224712, -0.6104045 ],\n",
       "        ...,\n",
       "        [ 0.16461964,  0.24189208,  0.11887303, ..., -0.5333072 ,\n",
       "         -0.06250383, -0.13088709],\n",
       "        [-0.12968767,  0.00756082,  0.0122868 , ..., -0.16320962,\n",
       "          0.0041973 , -0.5646109 ],\n",
       "        [ 0.6913022 ,  0.22335252, -0.37156796, ..., -0.26613367,\n",
       "         -0.50906515, -0.37464538]],\n",
       "\n",
       "       [[ 0.24121627, -0.07501496,  0.01432567, ..., -0.6439729 ,\n",
       "          0.26622033,  0.1586175 ],\n",
       "        [ 0.18809797,  0.04964391,  0.08794902, ..., -0.07881849,\n",
       "          0.4446073 , -0.13693361],\n",
       "        [ 0.39023384,  0.15857726,  0.16035128, ..., -0.3916348 ,\n",
       "          0.15524144,  0.00128211],\n",
       "        ...,\n",
       "        [ 0.8838556 ,  0.16747189,  0.56828296, ..., -0.4580293 ,\n",
       "          0.11040645, -0.44848022],\n",
       "        [ 0.05642128, -0.0390565 ,  0.33431727, ..., -0.32347193,\n",
       "         -0.18382591, -0.31585008],\n",
       "        [ 1.0880628 ,  0.09618648, -0.28987062, ..., -0.32865846,\n",
       "         -0.35520115, -0.31760213]],\n",
       "\n",
       "       [[-0.13549255, -0.01894743, -0.01376811, ..., -0.2979374 ,\n",
       "          0.1100978 ,  0.01403555],\n",
       "        [ 0.67540574,  0.22596817,  0.01851691, ..., -0.2679239 ,\n",
       "         -0.06538313, -0.48648578],\n",
       "        [ 0.3289495 ,  0.3100986 ,  0.15459996, ..., -0.17309366,\n",
       "         -0.07068007, -0.09659079],\n",
       "        ...,\n",
       "        [-0.41036794,  0.17436038,  0.65179276, ..., -0.5178723 ,\n",
       "          0.3760762 , -0.14607406],\n",
       "        [-0.24785975, -0.06305613,  0.06482886, ..., -0.3852788 ,\n",
       "          0.15224929, -1.0545145 ],\n",
       "        [ 0.5119746 , -0.11112121, -0.19222073, ...,  0.03378521,\n",
       "         -0.62908995, -0.43089885]],\n",
       "\n",
       "       ...,\n",
       "\n",
       "       [[-0.10115698,  0.03236825,  0.05289638, ..., -0.29333967,\n",
       "          0.23970151,  0.2117916 ],\n",
       "        [ 0.30044517,  0.2052652 , -0.26997548, ..., -0.14192834,\n",
       "          0.17848419, -0.01644463],\n",
       "        [ 0.33032042, -0.38969424, -0.01544027, ..., -0.11391191,\n",
       "          0.3317541 ,  0.1896231 ],\n",
       "        ...,\n",
       "        [-0.18127565,  0.15677579,  0.33952364, ..., -0.47600538,\n",
       "         -0.13016482, -0.6221718 ],\n",
       "        [ 0.06462016, -0.15412639,  0.24837358, ..., -0.20178507,\n",
       "          0.02444566, -0.7365061 ],\n",
       "        [ 0.73056674, -0.03507839, -0.34194863, ..., -0.08606762,\n",
       "         -0.5253175 , -0.26708376]],\n",
       "\n",
       "       [[-0.23612219,  0.10851732, -0.00933237, ..., -0.2490037 ,\n",
       "          0.23169756,  0.36211905],\n",
       "        [ 0.31000453,  0.37924197,  0.16562885, ..., -0.2792366 ,\n",
       "          0.20657685,  0.01068327],\n",
       "        [ 0.1915792 ,  0.34977508,  0.18878704, ..., -0.419958  ,\n",
       "          0.04539888, -0.3137171 ],\n",
       "        ...,\n",
       "        [ 0.36386758,  0.43130425,  0.15756488, ..., -0.4671976 ,\n",
       "         -0.26670423,  0.18630785],\n",
       "        [ 0.1238824 ,  0.07881603,  0.09804696, ..., -0.06430732,\n",
       "         -0.10996884,  0.08760919],\n",
       "        [ 0.8845101 ,  0.2366601 , -0.30735552, ...,  0.00121205,\n",
       "         -0.67812246, -0.08983217]],\n",
       "\n",
       "       [[ 0.2127336 , -0.11316512, -0.02269475, ..., -0.20982124,\n",
       "          0.2959211 ,  0.3364553 ],\n",
       "        [ 0.32277143,  0.12525994,  0.2504176 , ..., -0.06118708,\n",
       "          0.58267665, -0.32248986],\n",
       "        [ 0.4044692 ,  0.0372536 ,  0.36998498, ..., -0.14368698,\n",
       "          0.01749379, -0.01188707],\n",
       "        ...,\n",
       "        [ 0.39799795,  0.14074479,  0.2545749 , ..., -0.07674752,\n",
       "          0.11467022,  0.11276647],\n",
       "        [ 0.38399163, -0.32071382,  0.14034006, ..., -0.03188942,\n",
       "         -0.07070452,  0.36181477],\n",
       "        [ 1.0320563 ,  0.17322057, -0.01751892, ..., -0.07013749,\n",
       "         -0.33726567, -0.21556203]]], dtype=float32)>"
      ]
     },
     "execution_count": 41,
     "metadata": {},
     "output_type": "execute_result"
    }
   ],
   "source": [
    "bert_output"
   ]
  },
  {
   "cell_type": "code",
   "execution_count": 49,
   "id": "8a687a93-d930-4c6e-8490-a7825d9d7676",
   "metadata": {},
   "outputs": [],
   "source": [
    "# Perform mean pooling to get a single vector per job post\n",
    "sentence_embeddings = tf.reduce_mean(bert_output, axis=1)\n",
    "\n",
    "X_binary_fea = X.drop(columns=['cleaned_text4','tokenized'])\n",
    "X_binary_fea = X_binary_fea.astype(int)\n",
    "X_combined = np.concatenate([sentence_embeddings, X_binary_fea], axis=1)\n",
    "\n",
    "X_train, X_test, y_train, y_test = train_test_split(X_combined, y, test_size = 0.2, random_state = 42)\n"
   ]
  },
  {
   "cell_type": "code",
   "execution_count": 53,
   "id": "59dc42ff-c04c-4fb2-ae12-6f03bc6209c1",
   "metadata": {},
   "outputs": [],
   "source": [
    "clf = LogisticRegression(random_state=42, max_iter=1000)\n",
    "# Fit the classifier using the extracted embeddings\n",
    "clf.fit(X_train, y_train)\n",
    "y_preds = clf.predict(X_test)"
   ]
  },
  {
   "cell_type": "code",
   "execution_count": 56,
   "id": "5d42870a-59b6-42bc-af7a-dfd0ad867811",
   "metadata": {
    "tags": []
   },
   "outputs": [
    {
     "name": "stdout",
     "output_type": "stream",
     "text": [
      "Accuracy: 0.9732\n",
      "Precision: 0.8295\n",
      "Recall: 0.5912\n",
      "F1 Score: 0.6903\n",
      "ROC-AUC: 0.7923\n"
     ]
    }
   ],
   "source": [
    "# Calculate evaluation metrics\n",
    "accuracy = accuracy_score(y_test, y_preds)\n",
    "precision = precision_score(y_test, y_preds)\n",
    "recall = recall_score(y_test, y_preds)\n",
    "f1 = f1_score(y_test, y_preds)\n",
    "roc_auc = roc_auc_score(y_test, y_preds)\n",
    "\n",
    "print(f\"Accuracy: {accuracy:.4f}\")\n",
    "print(f\"Precision: {precision:.4f}\")\n",
    "print(f\"Recall: {recall:.4f}\")\n",
    "print(f\"F1 Score: {f1:.4f}\")\n",
    "print(f\"ROC-AUC: {roc_auc:.4f}\")"
   ]
  },
  {
   "cell_type": "code",
   "execution_count": 57,
   "id": "3672a747-67c9-4e3e-a047-0f24ca30c268",
   "metadata": {},
   "outputs": [
    {
     "data": {
      "image/png": "[encoded data removed]",
      "text/plain": [
       "<Figure size 600x400 with 1 Axes>"
      ]
     },
     "metadata": {},
     "output_type": "display_data"
    }
   ],
   "source": [
    "cm = confusion_matrix(y_test, y_preds)\n",
    "\n",
    "# Plot the confusion matrix\n",
    "plt.figure(figsize=(6, 4))\n",
    "sns.heatmap(cm, annot=True, fmt='d', cmap='Blues', cbar=False)\n",
    "plt.xlabel('Predicted')\n",
    "plt.ylabel('Actual')\n",
    "plt.title('Confusion Matrix')\n",
    "plt.show()"
   ]
  },
  {
   "cell_type": "code",
   "execution_count": 65,
   "id": "43d4c991-8c35-4100-a9ad-cfc7c0ad38e0",
   "metadata": {},
   "outputs": [
    {
     "data": {
      "image/png": "[encoded data removed]",
      "text/plain": [
       "<Figure size 800x600 with 1 Axes>"
      ]
     },
     "metadata": {},
     "output_type": "display_data"
    }
   ],
   "source": [
    "y_preds_proba = clf.predict_proba(X_test)[:, 1]\n",
    "\n",
    "fpr, tpr, thresholds = roc_curve(y_test, y_preds_proba)  # y_preds_proba should be the predicted probabilities\n",
    "roc_auc = auc(fpr, tpr)\n",
    "\n",
    "# Plot ROC-AUC curve\n",
    "plt.figure(figsize=(8, 6))\n",
    "plt.plot(fpr, tpr, color='blue', lw=2, label=f'ROC curve (area = {roc_auc:.2f})')\n",
    "plt.plot([0, 1], [0, 1], color='gray', linestyle='--')  # Diagonal line for random chance\n",
    "plt.xlabel('False Positive Rate')\n",
    "plt.ylabel('True Positive Rate')\n",
    "plt.title('Receiver Operating Characteristic (ROC) Curve')\n",
    "plt.legend(loc=\"lower right\")\n",
    "plt.show()\n"
   ]
  },
  {
   "cell_type": "code",
   "execution_count": null,
   "id": "b170b57a-2395-43c3-8af2-f88a3097da9b",
   "metadata": {},
   "outputs": [],
   "source": []
  }
 ],
 "metadata": {
  "environment": {
   "kernel": "conda-env-tensorflow-tensorflow",
   "name": "workbench-notebooks.m124",
   "type": "gcloud",
   "uri": "us-docker.pkg.dev/deeplearning-platform-release/gcr.io/workbench-notebooks:m124"
  },
  "kernelspec": {
   "display_name": "Python 3 (ipykernel)",
   "language": "python",
   "name": "python3"
  },
  "language_info": {
   "codemirror_mode": {
    "name": "ipython",
    "version": 3
   },
   "file_extension": ".py",
   "mimetype": "text/x-python",
   "name": "python",
   "nbconvert_exporter": "python",
   "pygments_lexer": "ipython3",
   "version": "3.10.12"
  }
 },
 "nbformat": 4,
 "nbformat_minor": 5
}
