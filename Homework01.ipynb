{
 "cells": [
  {
   "cell_type": "raw",
   "id": "f883b0ca-9d46-4a0a-85fc-39a44eba6190",
   "metadata": {},
   "source": [
    "Exercise 3.\n",
    "1. Write a program flow which will assign grade by the test scores using the following conditions:\n",
    "\n",
    "If score >= 90, grade=\"A\"\n",
    "If 80 >= score >90, grade=\"B\"\n",
    "If 70 >= score >80, grade=\"C\"\n",
    "If 60 >= score >70, grade=\"D\"\n",
    "IF score < 60, grade=\"F\""
   ]
  },
  {
   "cell_type": "code",
   "execution_count": 4,
   "id": "02cb2b6f-64db-4dff-8890-4211381ffa64",
   "metadata": {},
   "outputs": [
    {
     "name": "stdout",
     "output_type": "stream",
     "text": [
      "A\n"
     ]
    }
   ],
   "source": [
    "# code up your solution here\n",
    "score = 100\n",
    "if score>=90:\n",
    "    grade = \"A\"\n",
    "elif score>=80 and score <90:\n",
    "    grade = \"B\"\n",
    "elif score >=70 and score<80:\n",
    "    grade = \"C\"\n",
    "elif score >=60 and score<70:\n",
    "    grade = \"D\"\n",
    "else:\n",
    "    grade = \"F\"\n",
    "print (grade)"
   ]
  },
  {
   "cell_type": "markdown",
   "id": "9a042171-2bb6-43f2-a05b-aaad2d24579a",
   "metadata": {},
   "source": [
    "2. x=1, y=1, write a flow to assign messge to different value base on different criteria as below, and in the end print out the message:\n",
    "\n",
    "a. If x less than y, messge=\"x is less than y\"\n",
    "\n",
    "b. If x larger than y, messge=\"x is greater than y\"\n",
    "\n",
    "c. If x equal to y, messge=\"x is the same as y\""
   ]
  },
  {
   "cell_type": "code",
   "execution_count": 5,
   "id": "241e2813-78b0-40b4-b1b5-1c8b948d711d",
   "metadata": {},
   "outputs": [
    {
     "name": "stdout",
     "output_type": "stream",
     "text": [
      "x is the same as y\n"
     ]
    }
   ],
   "source": [
    "# code up your solution here\n",
    "x=1 \n",
    "y=1\n",
    "if x<y:\n",
    "    message = 'x is less than y'\n",
    "elif x>y:\n",
    "    message = 'x is greater than y'\n",
    "else: \n",
    "    message = 'x is the same as y'\n",
    "print (message)"
   ]
  },
  {
   "cell_type": "markdown",
   "id": "c8624628-1ad3-4f69-a10a-be9ed10d26b8",
   "metadata": {},
   "source": [
    "Exercise 4.\n",
    "1. Read more on list and select 2 list methods not mentioned in class to give examples of using them."
   ]
  },
  {
   "cell_type": "code",
   "execution_count": 12,
   "id": "163ed95e-a518-4589-a1eb-0b6864be773d",
   "metadata": {},
   "outputs": [
    {
     "data": {
      "text/plain": [
       "1"
      ]
     },
     "execution_count": 12,
     "metadata": {},
     "output_type": "execute_result"
    }
   ],
   "source": [
    "#list.count()\n",
    "a = [1, 2,3,4]\n",
    "a.count(4)"
   ]
  },
  {
   "cell_type": "code",
   "execution_count": 14,
   "id": "94ca4c0e-e3a8-4da7-afa3-325c1a1f2b2d",
   "metadata": {},
   "outputs": [
    {
     "name": "stdout",
     "output_type": "stream",
     "text": [
      "['english', 'spanish', 'math', 'business']\n"
     ]
    }
   ],
   "source": [
    "#list.extend()\n",
    "class_1 = ['english', 'spanish']\n",
    "class_2 =['math','business']\n",
    "class_1.extend(class_2)\n",
    "print(class_1)"
   ]
  },
  {
   "cell_type": "markdown",
   "id": "108be431-94ff-45d4-945c-3fabb165e501",
   "metadata": {},
   "source": [
    "2.How can you check if a key is already in a dictionary? Give an example."
   ]
  },
  {
   "cell_type": "code",
   "execution_count": 19,
   "id": "956da56a-36fc-4965-a90d-053d5c703d90",
   "metadata": {},
   "outputs": [
    {
     "name": "stdout",
     "output_type": "stream",
     "text": [
      "doesn't exist\n"
     ]
    }
   ],
   "source": [
    "d = {\"color1\":\"white\", \"color2\":\"black\" }\n",
    "key_to_check = 'purple'\n",
    "if key_to_check in d.keys():\n",
    "    print('exists')\n",
    "else:\n",
    "    print(\"doesn't exist\")"
   ]
  },
  {
   "cell_type": "markdown",
   "id": "e962940f-8fe0-4c40-98a1-1ab2a59331cd",
   "metadata": {},
   "source": [
    "3.Explore how Counter works as another type of collection. Give 2 examples to use Counter."
   ]
  },
  {
   "cell_type": "code",
   "execution_count": 21,
   "id": "94fa7266-9e3d-4836-b138-ae69c2534638",
   "metadata": {},
   "outputs": [
    {
     "name": "stdout",
     "output_type": "stream",
     "text": [
      "3\n"
     ]
    }
   ],
   "source": [
    "#example 1\n",
    "from collections import Counter\n",
    "counter = Counter({'apple': 1, 'banana': 2, 'pear': 3})\n",
    "countfruit = counter['pear']\n",
    "print(countfruit)  "
   ]
  },
  {
   "cell_type": "code",
   "execution_count": 22,
   "id": "b84c4c84-eab5-40a3-8e02-eb48f1e4c6dd",
   "metadata": {},
   "outputs": [
    {
     "name": "stdout",
     "output_type": "stream",
     "text": [
      "0\n"
     ]
    }
   ],
   "source": [
    "#example 2\n",
    "counter_color = Counter({'red': 1, 'yellow': 10, 'blue': 100})\n",
    "countcolor = counter['purple']\n",
    "print(countcolor)"
   ]
  },
  {
   "cell_type": "markdown",
   "id": "283eaaa0-86cd-4e94-9a15-53ba22f72a86",
   "metadata": {},
   "source": [
    "4.The Fibonacci Sequence is the series of numbers: 0, 1, 1, 2, 3, 5, 8, 13, 21, 34, ...\n",
    "The next number is found by adding up the two numbers before it. Find the last element of the fibolist"
   ]
  },
  {
   "cell_type": "code",
   "execution_count": 36,
   "id": "144129de-4f2d-45f9-9db7-5dda628443d5",
   "metadata": {},
   "outputs": [
    {
     "data": {
      "text/plain": [
       "317811"
      ]
     },
     "execution_count": 36,
     "metadata": {},
     "output_type": "execute_result"
    }
   ],
   "source": [
    "fibolist=[0, 1, 1, 2, 3, 5, 8, 13, 21, 34, 55, 89, 144, 233, 377, 610, 987, 1597, 2584, 4181, 6765, 10946, 17711, 28657, 46368, 75025, 121393, 196418, 317811]\n",
    "\n",
    "# code your solution here\n",
    "fibolist[-1]"
   ]
  },
  {
   "cell_type": "markdown",
   "id": "3c99d907-ef9c-4e5d-a25b-cfd37d952362",
   "metadata": {},
   "source": [
    "5.Calculate the sum of fibolist"
   ]
  },
  {
   "cell_type": "code",
   "execution_count": 25,
   "id": "28dfc45e-8384-48e6-88fb-aa217555d756",
   "metadata": {},
   "outputs": [
    {
     "data": {
      "text/plain": [
       "832039"
      ]
     },
     "execution_count": 25,
     "metadata": {},
     "output_type": "execute_result"
    }
   ],
   "source": [
    "sum(fibolist)"
   ]
  },
  {
   "cell_type": "markdown",
   "id": "88920f1a-6f54-4e60-b007-d3b443805b6f",
   "metadata": {},
   "source": [
    "6.Calculate and append the next fibonacci number to fibolist."
   ]
  },
  {
   "cell_type": "code",
   "execution_count": 39,
   "id": "dd1acecd-f893-45f5-9e5e-0f911fdb12ec",
   "metadata": {},
   "outputs": [
    {
     "data": {
      "text/plain": [
       "[0,\n",
       " 1,\n",
       " 1,\n",
       " 2,\n",
       " 3,\n",
       " 5,\n",
       " 8,\n",
       " 13,\n",
       " 21,\n",
       " 34,\n",
       " 55,\n",
       " 89,\n",
       " 144,\n",
       " 233,\n",
       " 377,\n",
       " 610,\n",
       " 987,\n",
       " 1597,\n",
       " 2584,\n",
       " 4181,\n",
       " 6765,\n",
       " 10946,\n",
       " 17711,\n",
       " 28657,\n",
       " 46368,\n",
       " 75025,\n",
       " 121393,\n",
       " 196418,\n",
       " 317811,\n",
       " 514229]"
      ]
     },
     "execution_count": 39,
     "metadata": {},
     "output_type": "execute_result"
    }
   ],
   "source": [
    "#fibolist.append(fibolist[-1]+fibolist[-2])\n",
    "#fibolist.remove(fibolist[-1])\n",
    "fib = fibolist[-2]+fibolist[-1]\n",
    "fib\n",
    "fibolist.append(fib)\n",
    "fibolist"
   ]
  },
  {
   "cell_type": "markdown",
   "id": "36bcf310-80bc-487e-95bd-f96fecd99161",
   "metadata": {},
   "source": [
    "7.Create a reversed copy of fibolist without permanently reversing fibolist liteslf."
   ]
  },
  {
   "cell_type": "code",
   "execution_count": 55,
   "id": "bd8e259f-42b1-42ef-b27c-78d8d5acd7b5",
   "metadata": {},
   "outputs": [
    {
     "name": "stdout",
     "output_type": "stream",
     "text": [
      "[514229, 317811, 196418, 121393, 75025, 46368, 28657, 17711, 10946, 6765, 4181, 2584, 1597, 987, 610, 377, 233, 144, 89, 55, 34, 21, 13, 8, 5, 3, 2, 1, 1, 0]\n"
     ]
    }
   ],
   "source": [
    "fibolist_copy = fibolist.copy()\n",
    "fibolist_copy.reverse()\n",
    "print(fibolist_copy)"
   ]
  },
  {
   "cell_type": "markdown",
   "id": "49a4ccbf-b82a-4bff-bbaf-eff4a04581ed",
   "metadata": {},
   "source": [
    "8.Check if 29473 is a fibonacci number, and assign the anser to variable fibo_29473"
   ]
  },
  {
   "cell_type": "code",
   "execution_count": 66,
   "id": "827f3700-0ddd-4e8c-badd-5ae0bdfff937",
   "metadata": {},
   "outputs": [
    {
     "ename": "ValueError",
     "evalue": "29473 is not in list",
     "output_type": "error",
     "traceback": [
      "\u001b[1;31m---------------------------------------------------------------------------\u001b[0m",
      "\u001b[1;31mValueError\u001b[0m                                Traceback (most recent call last)",
      "Cell \u001b[1;32mIn[66], line 3\u001b[0m\n\u001b[0;32m      1\u001b[0m fibolist\u001b[38;5;241m=\u001b[39m[\u001b[38;5;241m0\u001b[39m, \u001b[38;5;241m1\u001b[39m, \u001b[38;5;241m1\u001b[39m, \u001b[38;5;241m2\u001b[39m, \u001b[38;5;241m3\u001b[39m, \u001b[38;5;241m5\u001b[39m, \u001b[38;5;241m8\u001b[39m, \u001b[38;5;241m13\u001b[39m, \u001b[38;5;241m21\u001b[39m, \u001b[38;5;241m34\u001b[39m, \u001b[38;5;241m55\u001b[39m, \u001b[38;5;241m89\u001b[39m, \u001b[38;5;241m144\u001b[39m, \u001b[38;5;241m233\u001b[39m, \u001b[38;5;241m377\u001b[39m, \u001b[38;5;241m610\u001b[39m, \u001b[38;5;241m987\u001b[39m, \u001b[38;5;241m1597\u001b[39m, \u001b[38;5;241m2584\u001b[39m, \u001b[38;5;241m4181\u001b[39m, \u001b[38;5;241m6765\u001b[39m, \u001b[38;5;241m10946\u001b[39m, \u001b[38;5;241m17711\u001b[39m, \u001b[38;5;241m28657\u001b[39m, \u001b[38;5;241m46368\u001b[39m, \u001b[38;5;241m75025\u001b[39m, \u001b[38;5;241m121393\u001b[39m, \u001b[38;5;241m196418\u001b[39m, \u001b[38;5;241m317811\u001b[39m]\n\u001b[0;32m      2\u001b[0m fibo_29473 \u001b[38;5;241m=\u001b[39m[]\n\u001b[1;32m----> 3\u001b[0m i \u001b[38;5;241m=\u001b[39mfibolist\u001b[38;5;241m.\u001b[39mindex(\u001b[38;5;241m29473\u001b[39m)\n\u001b[0;32m      4\u001b[0m popped \u001b[38;5;241m=\u001b[39m fibolist[i]\n\u001b[0;32m      5\u001b[0m fibo_29473\u001b[38;5;241m.\u001b[39minsert(popped)\n",
      "\u001b[1;31mValueError\u001b[0m: 29473 is not in list"
     ]
    }
   ],
   "source": [
    "fibolist=[0, 1, 1, 2, 3, 5, 8, 13, 21, 34, 55, 89, 144, 233, 377, 610, 987, 1597, 2584, 4181, 6765, 10946, 17711, 28657, 46368, 75025, 121393, 196418, 317811]\n",
    "fibo_29473 =[]\n",
    "i =fibolist.index(29473)\n",
    "popped = fibolist[i]\n",
    "fibo_29473.insert(popped)\n",
    "print(fibo_29473)"
   ]
  },
  {
   "cell_type": "markdown",
   "id": "7ed5bdf4-4feb-4e66-a581-c03e554a8697",
   "metadata": {},
   "source": [
    "9.Create two sets. Calculate the union, intersection, difference and symmetric difference for the two sets."
   ]
  },
  {
   "cell_type": "code",
   "execution_count": 69,
   "id": "c405b147-f112-44fe-9d3e-1e08984595a0",
   "metadata": {},
   "outputs": [
    {
     "name": "stdout",
     "output_type": "stream",
     "text": [
      "{1, 2, 3, 4, 5, 6, 9}\n",
      "{3, 4}\n",
      "{1, 2, 5}\n",
      "{1, 2, 5, 6, 9}\n"
     ]
    }
   ],
   "source": [
    "set_1 = {1,2,3,4,5}\n",
    "set_2 = {3,4,6,9}\n",
    "print(set_1.union(set_2))\n",
    "print(set_1.intersection(set_2))\n",
    "print(set_1.difference(set_2))\n",
    "print(set_1.symmetric_difference(set_2))"
   ]
  },
  {
   "cell_type": "markdown",
   "id": "bf5d9513-5118-4751-9f6c-2243f5eefbb5",
   "metadata": {},
   "source": [
    "10.Creat a dictionary using at least two different methods."
   ]
  },
  {
   "cell_type": "code",
   "execution_count": 70,
   "id": "9ad21d34-2e92-46f5-a878-6a11e2dde555",
   "metadata": {},
   "outputs": [
    {
     "name": "stdout",
     "output_type": "stream",
     "text": [
      "[('a', 100), ('b', 10)]\n",
      "{'a': 100, 'b': 10}\n"
     ]
    }
   ],
   "source": [
    "#method 1\n",
    "Dict = {}\n",
    "list_1 = [('a', 100), ('b', 10)]\n",
    "print(list_1)\n",
    " \n",
    "# Creating a Dictionary\n",
    "# with each item as a Pair\n",
    "Dict = dict(list_1)\n",
    "print(Dict)"
   ]
  },
  {
   "cell_type": "code",
   "execution_count": 72,
   "id": "2e6b6db0-9f2f-47b5-82b7-4a366fba8eb0",
   "metadata": {},
   "outputs": [
    {
     "name": "stdout",
     "output_type": "stream",
     "text": [
      "{'a1': 1, 'a2': 2, 'a3': 3}\n"
     ]
    }
   ],
   "source": [
    "#method 2\n",
    "dict = {'a1': 1, 'a2': 2, 'a3': 3}\n",
    "print(dict)"
   ]
  },
  {
   "cell_type": "markdown",
   "id": "94c3eb25-2c72-4b8e-9ece-8a0d4169f2a2",
   "metadata": {},
   "source": [
    "11.Check if 2 and 9999 are fibonacci numbers. Create a dictionary fibo_dict with the numbers as keys, and boolean value=True if the number is fibonacci number, and False otherwise."
   ]
  },
  {
   "cell_type": "code",
   "execution_count": 73,
   "id": "88d63423-31c6-4a66-b9e3-95ea24913bd2",
   "metadata": {},
   "outputs": [
    {
     "data": {
      "text/plain": [
       "{2: True, 9999: False}"
      ]
     },
     "execution_count": 73,
     "metadata": {},
     "output_type": "execute_result"
    }
   ],
   "source": [
    "fibolist=[0, 1, 1, 2, 3, 5, 8, 13, 21, 34, 55, 89, 144, 233, 377, 610, 987, 1597, 2584, 4181, 6765, 10946, 17711, 28657, 46368, 75025, 121393, 196418, 317811]\n",
    "fib_dict = {2: 2 in fibolist, 9999: 9999 in fibolist}\n",
    "fib_dict"
   ]
  },
  {
   "cell_type": "code",
   "execution_count": null,
   "id": "694480b6-4835-4b53-bed8-782ceb4a4994",
   "metadata": {},
   "outputs": [],
   "source": []
  }
 ],
 "metadata": {
  "kernelspec": {
   "display_name": "Python 3 (ipykernel)",
   "language": "python",
   "name": "python3"
  },
  "language_info": {
   "codemirror_mode": {
    "name": "ipython",
    "version": 3
   },
   "file_extension": ".py",
   "mimetype": "text/x-python",
   "name": "python",
   "nbconvert_exporter": "python",
   "pygments_lexer": "ipython3",
   "version": "3.12.3"
  }
 },
 "nbformat": 4,
 "nbformat_minor": 5
}
